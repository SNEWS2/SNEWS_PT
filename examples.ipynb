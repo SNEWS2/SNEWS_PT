{
 "cells": [
  {
   "cell_type": "code",
   "execution_count": null,
   "id": "b8728349-7d8f-438d-8e33-79790d2a1845",
   "metadata": {},
   "outputs": [],
   "source": [
    "# Global params \n",
    "from datetime import datetime\n",
    "\n",
    "def nu_t():\n",
    "    return datetime.utcnow().strftime(\"%H:%M:%S:%f\")\n",
    "\n",
    "my_detector = 'DS-20K'"
   ]
  },
  {
   "cell_type": "code",
   "execution_count": 3,
   "id": "34bebc1c-8272-4a87-b877-31b77700907d",
   "metadata": {
    "tags": []
   },
   "outputs": [
    {
     "name": "stdout",
     "output_type": "stream",
     "text": [
      "\u001B[94m---------------------------------------------------------\u001B[0m\n",
      "_id                 :18_CoincidenceTier_21/11/15_18:37:16:256938\n",
      "detector_name       :DS-20K\n",
      "sent_time           :21/11/15 18:37:16\n",
      "machine_time        :None\n",
      "neutrino_time       :18:37:16:255804\n",
      "p_value             :0.98\n"
     ]
    }
   ],
   "source": [
    "from SNEWS_PT.snews_pub import CoincidenceTier, Publisher\n",
    "\n",
    "pub = Publisher()\n",
    "message = CoincidenceTier(detector_name=my_detector, nu_time=nu_t(), p_val = 0.98).message()\n",
    "pub.send(message)"
   ]
  },
  {
   "cell_type": "code",
   "execution_count": 8,
   "id": "6643ecd8-2358-46b8-8320-96d65c2bc582",
   "metadata": {},
   "outputs": [
    {
     "name": "stdout",
     "output_type": "stream",
     "text": [
      "\u001B[94m---------------------------------------------------------\u001B[0m\n",
      "_id                 :18_SigTier_21/11/15_18:45:56:352730\n",
      "detector_name       :DS-20K\n",
      "sent_time           :21/11/15 18:45:56\n",
      "machine_time        :None\n",
      "neutrino_time       :18:45:56:348781\n",
      "p_values            :[0.78, 0.67, 0.75, 0.56]\n"
     ]
    }
   ],
   "source": [
    "from SNEWS_PT.snews_pub import SignificanceTier, Publisher\n",
    "\n",
    "pub = Publisher()\n",
    "message = SignificanceTier(detector_name=my_detector, p_values=[0.78,0.67,0.75,0.56],nu_time = nu_t()).message()\n",
    "pub.send(message)\n"
   ]
  },
  {
   "cell_type": "code",
   "execution_count": 9,
   "id": "11db1da7-d848-463e-8b6d-8b75c90897a9",
   "metadata": {},
   "outputs": [
    {
     "name": "stdout",
     "output_type": "stream",
     "text": [
      "\u001B[94m---------------------------------------------------------\u001B[0m\n",
      "_id                 :18_TimeTier_21/11/15_18:57:27:667137\n",
      "detector_name       :DS-20K\n",
      "sent_time           :21/11/15 18:57:27\n",
      "machine_time        :None\n",
      "neutrino_time       :18:57:27:666161\n",
      "timing_series       :['16:23:24\"4546', '16:23:24\"4666', '16:23:24\"4756']\n"
     ]
    }
   ],
   "source": [
    "from SNEWS_PT.snews_pub import TimingTier, Publisher\n",
    "\n",
    "pub = Publisher()\n",
    "message = TimingTier(detector_name=my_detector, nu_time=nu_t(), timing_series = ['16:23:24\"4546','16:23:24\"4666','16:23:24\"4756']).message()\n",
    "pub.send(message)"
   ]
  },
  {
   "cell_type": "code",
   "execution_count": 12,
   "id": "2f4d67cf-70bb-4d1d-8287-87c37f5ae7ff",
   "metadata": {},
   "outputs": [
    {
     "name": "stdout",
     "output_type": "stream",
     "text": [
      "\u001B[94m---------------------------------------------------------\u001B[0m\n",
      "machine_time        :None\n",
      "false_id            :None\n",
      "N_retract_latest    :5\n",
      "which_tier          :CoincidenceTier\n",
      "retraction_reason   :someone spilled coffee on the DAQ\n",
      "sent_time           :21/11/15 19:00:33\n"
     ]
    }
   ],
   "source": [
    "from SNEWS_PT.snews_pub import Retraction, Publisher\n",
    "\n",
    "pub = Publisher()\n",
    "\n",
    "message = Retraction(detector_name = my_detector, which_tier='CoincidenceTier', n_retract_latest=5, retraction_reason='someone spilled coffee on the DAQ').message()\n",
    "pub.send(message)"
   ]
  },
  {
   "cell_type": "code",
   "execution_count": null,
   "id": "1edc36bc-170e-4d25-a5ee-8ff2d542eb98",
   "metadata": {},
   "outputs": [],
   "source": []
  }
 ],
 "metadata": {
  "kernelspec": {
   "display_name": "Python 3 (ipykernel)",
   "language": "python",
   "name": "python3"
  },
  "language_info": {
   "codemirror_mode": {
    "name": "ipython",
    "version": 3
   },
   "file_extension": ".py",
   "mimetype": "text/x-python",
   "name": "python",
   "nbconvert_exporter": "python",
   "pygments_lexer": "ipython3",
   "version": "3.8.12"
  }
 },
 "nbformat": 4,
 "nbformat_minor": 5
}