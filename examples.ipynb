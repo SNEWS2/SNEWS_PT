{
 "cells": [
  {
   "cell_type": "markdown",
   "id": "4c491567",
   "metadata": {},
   "source": [
    "# Examples of `snews_pt` usage"
   ]
  },
  {
   "cell_type": "markdown",
   "id": "935f417b",
   "metadata": {},
   "source": [
    "Last updated: 21/07/2023 <br>\n",
    "This notebook contains the most basic publication and subscription examples."
   ]
  },
  {
   "cell_type": "markdown",
   "id": "f6d67ae3",
   "metadata": {},
   "source": [
    "## Subscription"
   ]
  },
  {
   "cell_type": "code",
   "execution_count": null,
   "id": "0ea6d89a",
   "metadata": {
    "pycharm": {
     "name": "#%%\n"
    }
   },
   "outputs": [],
   "source": [
    "from snews_pt.snews_sub import Subscriber\n",
    "\n",
    "Subscriber().subscribe()"
   ]
  },
  {
   "cell_type": "markdown",
   "id": "5993f74e",
   "metadata": {},
   "source": [
    "---\n",
    "# Publication"
   ]
  },
  {
   "cell_type": "markdown",
   "id": "6a557d61",
   "metadata": {},
   "source": [
    "Here we create a message to which we pass the following arguments; <br>\n",
    "`detector_name`, `machine_time`, `neutrino_time`, `p_val`, `p_values`,`t_bin_width` <br>\n",
    "As described in [Message Schema Section](https://snews-publishing-tools.readthedocs.io/en/latest/user/command_line_interface.html) of the documentation. The tiers are decided automatically by the scripts based on the input arguments passed. <br>\n",
    "\n",
    "Here the argument `neutrino_time` indicates that the message should be sent to \"Coincidence Tier\" for coincidence checks with the other experiments. <br>\n",
    "\n",
    "Similarly, the input arguments; `p_values` and `t_bin_width` indicates that the message should go to \"Significance Tier\" for combined significance computations using the "
   ]
  },
  {
   "cell_type": "markdown",
   "id": "dafbf99a",
   "metadata": {},
   "source": [
    "## Old way"
   ]
  },
  {
   "cell_type": "code",
   "execution_count": 1,
   "id": "1709a9db",
   "metadata": {},
   "outputs": [],
   "source": [
    "# from snews_pt.snews_pub import SNEWSTiersPublisher\n",
    "# from datetime import  datetime\n",
    "\n",
    "# test_time = datetime.utcnow().isoformat()\n",
    "# message = SNEWSTiersPublisher(detector_name='LZ', machine_time=test_time, neutrino_time=test_time, p_val=0.0007, p_values=[0.0007,0.0008,0.0009],t_bin_width=0.07)\n",
    "# # print(message.message_data)\n",
    "# # print(message.tiernames)\n",
    "# # print('Sending message')\n",
    "# message.send_to_snews()"
   ]
  },
  {
   "cell_type": "markdown",
   "id": "eae871f7",
   "metadata": {},
   "source": [
    "## New construction"
   ]
  },
  {
   "cell_type": "code",
   "execution_count": 113,
   "id": "81f0b707",
   "metadata": {
    "pycharm": {
     "name": "#%%\n"
    }
   },
   "outputs": [],
   "source": [
    "from snews_pt import messages\n",
    "import importlib\n",
    "importlib.reload(messages)\n",
    "from datetime import  datetime\n",
    "\n",
    "test_time = datetime.utcnow().isoformat()"
   ]
  },
  {
   "cell_type": "markdown",
   "id": "4b0d51ca",
   "metadata": {},
   "source": [
    "## Valid messages"
   ]
  },
  {
   "cell_type": "markdown",
   "id": "8150844a",
   "metadata": {},
   "source": [
    "**1) message from a valid detector with valid neutrino times and valid p values.**\n",
    "This creates two messages; CoincidenceTierMessage and SignificanceTierMessage"
   ]
  },
  {
   "cell_type": "code",
   "execution_count": 22,
   "id": "5a27a67e",
   "metadata": {
    "scrolled": false
   },
   "outputs": [
    {
     "data": {
      "text/plain": [
       "[\u001b[1mSNEWSCoincidenceTierMessage\n",
       " \u001b[0m---------------------------\n",
       " \u001b[91m            _id : LZ_CoincidenceTier_2023-07-31T07:27:00.410593\n",
       " \u001b[0m\u001b[91m schema_version : 1.3.0\n",
       " \u001b[0m\u001b[91m  detector_name : LZ\n",
       " \u001b[0m\u001b[94m  neutrino_time : 2023-07-31T07:27:00.410593\n",
       " \u001b[0m---------------------------\n",
       " \u001b[96m       p_values : [0.0007, 0.0008, 0.0009]\n",
       " \u001b[0m\u001b[96m    t_bin_width : 0.07\n",
       " \u001b[0m\u001b[96m        is_test : True\n",
       " \u001b[0m,\n",
       " \u001b[1mSNEWSSignificanceTierMessage\n",
       " \u001b[0m----------------------------\n",
       " \u001b[91m            _id : LZ_SignificanceTier_2023-07-31T07:27:00.410593\n",
       " \u001b[0m\u001b[91m schema_version : 1.3.0\n",
       " \u001b[0m\u001b[91m  detector_name : LZ\n",
       " \u001b[0m\u001b[94m       p_values : [0.0007, 0.0008, 0.0009]\n",
       " \u001b[0m\u001b[94m    t_bin_width : 0.07\n",
       " \u001b[0m----------------------------\n",
       " \u001b[96m  neutrino_time : 2023-07-31T07:27:00.410593\n",
       " \u001b[0m\u001b[96m          p_val : 0.000\n",
       " \u001b[0m\u001b[96m        is_test : True\n",
       " \u001b[0m]"
      ]
     },
     "execution_count": 22,
     "metadata": {},
     "output_type": "execute_result"
    }
   ],
   "source": [
    "msg = messages.SNEWSMessageBuilder(detector_name='LZ', \n",
    "                          machine_time=test_time, \n",
    "                          neutrino_time=test_time, \n",
    "                          p_val=\"0.000\", \n",
    "                          p_values=[0.0007,0.0008,0.0009],\n",
    "                          t_bin_width=0.07, \n",
    "                          is_test=True)\n",
    "\n",
    "msg.messages"
   ]
  },
  {
   "cell_type": "markdown",
   "id": "fedb9b1b",
   "metadata": {},
   "source": [
    "**2) Similarly, as long as the neutrino time iso-formattable** <br>\n",
    "Notice the neutrino time comes from the past but it is a test, and therefore ignored"
   ]
  },
  {
   "cell_type": "code",
   "execution_count": 4,
   "id": "051f5029",
   "metadata": {},
   "outputs": [
    {
     "data": {
      "text/plain": [
       "[\u001b[1mSNEWSCoincidenceTierMessage\n",
       " \u001b[0m---------------------------\n",
       " \u001b[91m            _id : LZ_CoincidenceTier_2023-07-21T14:53:51.016430\n",
       " \u001b[0m\u001b[91m schema_version : 1.3.0\n",
       " \u001b[0m\u001b[91m  detector_name : LZ\n",
       " \u001b[0m\u001b[94m  neutrino_time : 2023-06-12T18:30:00\n",
       " \u001b[0m---------------------------\n",
       " \u001b[96m        is_test : True\n",
       " \u001b[0m]"
      ]
     },
     "execution_count": 4,
     "metadata": {},
     "output_type": "execute_result"
    }
   ],
   "source": [
    "msg = messages.SNEWSMessageBuilder(detector_name='LZ', \n",
    "                          machine_time=test_time, \n",
    "                          neutrino_time=\"2023-06-12 18:30\", \n",
    "                          is_test=True)\n",
    "\n",
    "msg.messages"
   ]
  },
  {
   "cell_type": "markdown",
   "id": "32f807b9",
   "metadata": {},
   "source": [
    "## Invalid Messages"
   ]
  },
  {
   "cell_type": "markdown",
   "id": "e6327d9b",
   "metadata": {},
   "source": [
    "**1) With no valid argument**"
   ]
  },
  {
   "cell_type": "code",
   "execution_count": 5,
   "id": "43856ed4",
   "metadata": {},
   "outputs": [
    {
     "data": {
      "text/plain": [
       "SNEWSMessageBuilder:\n",
       "No messages have been built."
      ]
     },
     "execution_count": 5,
     "metadata": {},
     "output_type": "execute_result"
    }
   ],
   "source": [
    "msg = messages.SNEWSMessageBuilder(test=1)\n",
    "msg"
   ]
  },
  {
   "cell_type": "markdown",
   "id": "8c29fb5d",
   "metadata": {},
   "source": [
    "**2) unknown detector name**"
   ]
  },
  {
   "cell_type": "code",
   "execution_count": 10,
   "id": "2ac8942a",
   "metadata": {
    "collapsed": true
   },
   "outputs": [
    {
     "ename": "KeyError",
     "evalue": "\"aseyhsreshdshdshsdgsdg is not a valid detector. \\nChoose from ['Baksan', 'Borexino', 'DS-20K', 'DUNE', 'HALO', 'HALO-1kT', 'Hyper-K', 'IceCube', 'JUNO', 'KM3NeT', 'KamLAND', 'LVD', 'LZ', 'MicroBooNe', 'NOvA', 'PandaX-4T', 'SBND', 'SNO+', 'Super-K', 'XENONnT']\"",
     "output_type": "error",
     "traceback": [
      "\u001b[0;31m---------------------------------------------------------------------------\u001b[0m",
      "\u001b[0;31mKeyError\u001b[0m                                  Traceback (most recent call last)",
      "Cell \u001b[0;32mIn[10], line 1\u001b[0m\n\u001b[0;32m----> 1\u001b[0m msg \u001b[38;5;241m=\u001b[39m \u001b[43mmessages\u001b[49m\u001b[38;5;241;43m.\u001b[39;49m\u001b[43mSNEWSMessageBuilder\u001b[49m\u001b[43m(\u001b[49m\u001b[43mdetector_name\u001b[49m\u001b[38;5;241;43m=\u001b[39;49m\u001b[38;5;124;43m'\u001b[39;49m\u001b[38;5;124;43maseyhsreshdshdshsdgsdg\u001b[39;49m\u001b[38;5;124;43m'\u001b[39;49m\u001b[43m,\u001b[49m\u001b[43m \u001b[49m\n\u001b[1;32m      2\u001b[0m \u001b[43m                                  \u001b[49m\u001b[43mmachine_time\u001b[49m\u001b[38;5;241;43m=\u001b[39;49m\u001b[43mtest_time\u001b[49m\u001b[43m,\u001b[49m\u001b[43m \u001b[49m\n\u001b[1;32m      3\u001b[0m \u001b[43m                                  \u001b[49m\u001b[43mneutrino_time\u001b[49m\u001b[38;5;241;43m=\u001b[39;49m\u001b[43mtest_time\u001b[49m\u001b[43m,\u001b[49m\u001b[43m \u001b[49m\n\u001b[1;32m      4\u001b[0m \u001b[43m                                  \u001b[49m\u001b[43mp_val\u001b[49m\u001b[38;5;241;43m=\u001b[39;49m\u001b[38;5;241;43m0.0007\u001b[39;49m\u001b[43m,\u001b[49m\u001b[43m \u001b[49m\n\u001b[1;32m      5\u001b[0m \u001b[43m                                  \u001b[49m\u001b[43mp_values\u001b[49m\u001b[38;5;241;43m=\u001b[39;49m\u001b[43m[\u001b[49m\u001b[38;5;241;43m0.0007\u001b[39;49m\u001b[43m,\u001b[49m\u001b[38;5;241;43m0.0008\u001b[39;49m\u001b[43m,\u001b[49m\u001b[38;5;241;43m0.0009\u001b[39;49m\u001b[43m]\u001b[49m\u001b[43m,\u001b[49m\n\u001b[1;32m      6\u001b[0m \u001b[43m                                  \u001b[49m\u001b[43mt_bin_width\u001b[49m\u001b[38;5;241;43m=\u001b[39;49m\u001b[38;5;241;43m0.07\u001b[39;49m\u001b[43m,\u001b[49m\u001b[43m \u001b[49m\n\u001b[1;32m      7\u001b[0m \u001b[43m                                  \u001b[49m\u001b[43mis_test\u001b[49m\u001b[38;5;241;43m=\u001b[39;49m\u001b[38;5;28;43;01mTrue\u001b[39;49;00m\u001b[43m)\u001b[49m\n",
      "File \u001b[0;32m/mnt/c/Users/bj7780/Desktop/Kara/GitHub/SNEWS/SNEWS_Publishing_Tools/snews_pt/messages.py:377\u001b[0m, in \u001b[0;36mSNEWSMessageBuilder.__init__\u001b[0;34m(self, env_file, detector_name, machine_time, neutrino_time, p_val, p_values, t_bin_width, timing_series, retract_latest, retraction_reason, detector_status, is_test, **kwargs)\u001b[0m\n\u001b[1;32m    361\u001b[0m \u001b[38;5;28;01mdef\u001b[39;00m \u001b[38;5;21m__init__\u001b[39m(\u001b[38;5;28mself\u001b[39m, env_file\u001b[38;5;241m=\u001b[39m\u001b[38;5;28;01mNone\u001b[39;00m,\n\u001b[1;32m    362\u001b[0m              detector_name\u001b[38;5;241m=\u001b[39m\u001b[38;5;124m'\u001b[39m\u001b[38;5;124mTEST\u001b[39m\u001b[38;5;124m'\u001b[39m,\n\u001b[1;32m    363\u001b[0m              machine_time\u001b[38;5;241m=\u001b[39m\u001b[38;5;28;01mNone\u001b[39;00m,\n\u001b[0;32m   (...)\u001b[0m\n\u001b[1;32m    372\u001b[0m              is_test\u001b[38;5;241m=\u001b[39m\u001b[38;5;28;01mFalse\u001b[39;00m,\n\u001b[1;32m    373\u001b[0m              \u001b[38;5;241m*\u001b[39m\u001b[38;5;241m*\u001b[39mkwargs):\n\u001b[1;32m    375\u001b[0m     \u001b[38;5;28mself\u001b[39m\u001b[38;5;241m.\u001b[39mmessages \u001b[38;5;241m=\u001b[39m \u001b[38;5;28;01mNone\u001b[39;00m\n\u001b[0;32m--> 377\u001b[0m     \u001b[38;5;28;43mself\u001b[39;49m\u001b[38;5;241;43m.\u001b[39;49m\u001b[43m_build_messages\u001b[49m\u001b[43m(\u001b[49m\u001b[43menv_file\u001b[49m\u001b[38;5;241;43m=\u001b[39;49m\u001b[43menv_file\u001b[49m\u001b[43m,\u001b[49m\n\u001b[1;32m    378\u001b[0m \u001b[43m                         \u001b[49m\u001b[43mdetector_name\u001b[49m\u001b[38;5;241;43m=\u001b[39;49m\u001b[43mdetector_name\u001b[49m\u001b[43m,\u001b[49m\n\u001b[1;32m    379\u001b[0m \u001b[43m                         \u001b[49m\u001b[43mmachine_time\u001b[49m\u001b[38;5;241;43m=\u001b[39;49m\u001b[43mmachine_time\u001b[49m\u001b[43m,\u001b[49m\n\u001b[1;32m    380\u001b[0m \u001b[43m                         \u001b[49m\u001b[43mneutrino_time\u001b[49m\u001b[38;5;241;43m=\u001b[39;49m\u001b[43mneutrino_time\u001b[49m\u001b[43m,\u001b[49m\n\u001b[1;32m    381\u001b[0m \u001b[43m                         \u001b[49m\u001b[43mp_val\u001b[49m\u001b[38;5;241;43m=\u001b[39;49m\u001b[43mp_val\u001b[49m\u001b[43m,\u001b[49m\n\u001b[1;32m    382\u001b[0m \u001b[43m                         \u001b[49m\u001b[43mp_values\u001b[49m\u001b[38;5;241;43m=\u001b[39;49m\u001b[43mp_values\u001b[49m\u001b[43m,\u001b[49m\n\u001b[1;32m    383\u001b[0m \u001b[43m                         \u001b[49m\u001b[43mt_bin_width\u001b[49m\u001b[38;5;241;43m=\u001b[39;49m\u001b[43mt_bin_width\u001b[49m\u001b[43m,\u001b[49m\n\u001b[1;32m    384\u001b[0m \u001b[43m                         \u001b[49m\u001b[43mtiming_series\u001b[49m\u001b[38;5;241;43m=\u001b[39;49m\u001b[43mtiming_series\u001b[49m\u001b[43m,\u001b[49m\n\u001b[1;32m    385\u001b[0m \u001b[43m                         \u001b[49m\u001b[43mretract_latest\u001b[49m\u001b[38;5;241;43m=\u001b[39;49m\u001b[43mretract_latest\u001b[49m\u001b[43m,\u001b[49m\n\u001b[1;32m    386\u001b[0m \u001b[43m                         \u001b[49m\u001b[43mretraction_reason\u001b[49m\u001b[38;5;241;43m=\u001b[39;49m\u001b[43mretraction_reason\u001b[49m\u001b[43m,\u001b[49m\n\u001b[1;32m    387\u001b[0m \u001b[43m                         \u001b[49m\u001b[43mdetector_status\u001b[49m\u001b[38;5;241;43m=\u001b[39;49m\u001b[43mdetector_status\u001b[49m\u001b[43m,\u001b[49m\n\u001b[1;32m    388\u001b[0m \u001b[43m                         \u001b[49m\u001b[43mis_test\u001b[49m\u001b[38;5;241;43m=\u001b[39;49m\u001b[43mis_test\u001b[49m\u001b[43m,\u001b[49m\n\u001b[1;32m    389\u001b[0m \u001b[43m                         \u001b[49m\u001b[38;5;241;43m*\u001b[39;49m\u001b[38;5;241;43m*\u001b[39;49m\u001b[43mkwargs\u001b[49m\u001b[43m)\u001b[49m\n",
      "File \u001b[0;32m/mnt/c/Users/bj7780/Desktop/Kara/GitHub/SNEWS/SNEWS_Publishing_Tools/snews_pt/messages.py:439\u001b[0m, in \u001b[0;36mSNEWSMessageBuilder._build_messages\u001b[0;34m(self, **kwargs)\u001b[0m\n\u001b[1;32m    436\u001b[0m \u001b[38;5;28;01mif\u001b[39;00m hasreqfields:\n\u001b[1;32m    437\u001b[0m     \u001b[38;5;28;01mif\u001b[39;00m \u001b[38;5;28mself\u001b[39m\u001b[38;5;241m.\u001b[39mmessages \u001b[38;5;129;01mis\u001b[39;00m \u001b[38;5;28;01mNone\u001b[39;00m:\n\u001b[1;32m    438\u001b[0m         \u001b[38;5;66;03m# check is valid at creation\u001b[39;00m\n\u001b[0;32m--> 439\u001b[0m         \u001b[43msmc\u001b[49m\u001b[43m(\u001b[49m\u001b[38;5;241;43m*\u001b[39;49m\u001b[38;5;241;43m*\u001b[39;49m\u001b[43mnonull_kwargs\u001b[49m\u001b[43m)\u001b[49m\u001b[38;5;241m.\u001b[39mis_valid()\n\u001b[1;32m    440\u001b[0m         \u001b[38;5;28mself\u001b[39m\u001b[38;5;241m.\u001b[39mmessages \u001b[38;5;241m=\u001b[39m [smc(\u001b[38;5;241m*\u001b[39m\u001b[38;5;241m*\u001b[39mnonull_kwargs)]\n\u001b[1;32m    441\u001b[0m     \u001b[38;5;28;01melse\u001b[39;00m:\n",
      "File \u001b[0;32m/mnt/c/Users/bj7780/Desktop/Kara/GitHub/SNEWS/SNEWS_Publishing_Tools/snews_pt/messages.py:243\u001b[0m, in \u001b[0;36mSNEWSCoincidenceTierMessage.__init__\u001b[0;34m(self, neutrino_time, p_val, **kwargs)\u001b[0m\n\u001b[1;32m    242\u001b[0m \u001b[38;5;28;01mdef\u001b[39;00m \u001b[38;5;21m__init__\u001b[39m(\u001b[38;5;28mself\u001b[39m, neutrino_time\u001b[38;5;241m=\u001b[39m\u001b[38;5;28;01mNone\u001b[39;00m, p_val\u001b[38;5;241m=\u001b[39m\u001b[38;5;28;01mNone\u001b[39;00m, \u001b[38;5;241m*\u001b[39m\u001b[38;5;241m*\u001b[39mkwargs):\n\u001b[0;32m--> 243\u001b[0m     \u001b[38;5;28;43msuper\u001b[39;49m\u001b[43m(\u001b[49m\u001b[43m)\u001b[49m\u001b[38;5;241;43m.\u001b[39;49m\u001b[38;5;21;43m__init__\u001b[39;49m\u001b[43m(\u001b[49m\u001b[38;5;28;43mself\u001b[39;49m\u001b[38;5;241;43m.\u001b[39;49m\u001b[43mfields\u001b[49m\u001b[43m,\u001b[49m\n\u001b[1;32m    244\u001b[0m \u001b[43m                     \u001b[49m\u001b[43mneutrino_time\u001b[49m\u001b[38;5;241;43m=\u001b[39;49m\u001b[38;5;28;43mself\u001b[39;49m\u001b[38;5;241;43m.\u001b[39;49m\u001b[43mclean_time_input\u001b[49m\u001b[43m(\u001b[49m\u001b[43mneutrino_time\u001b[49m\u001b[43m)\u001b[49m\u001b[43m,\u001b[49m\n\u001b[1;32m    245\u001b[0m \u001b[43m                     \u001b[49m\u001b[43mp_val\u001b[49m\u001b[38;5;241;43m=\u001b[39;49m\u001b[43mp_val\u001b[49m\u001b[43m,\u001b[49m\n\u001b[1;32m    246\u001b[0m \u001b[43m                     \u001b[49m\u001b[38;5;241;43m*\u001b[39;49m\u001b[38;5;241;43m*\u001b[39;49m\u001b[43mkwargs\u001b[49m\u001b[43m)\u001b[49m\n",
      "File \u001b[0;32m/mnt/c/Users/bj7780/Desktop/Kara/GitHub/SNEWS/SNEWS_Publishing_Tools/snews_pt/messages.py:119\u001b[0m, in \u001b[0;36mSNEWSMessage.__init__\u001b[0;34m(self, fields, detector_name, machine_time, **kwargs)\u001b[0m\n\u001b[1;32m    115\u001b[0m tier \u001b[38;5;241m=\u001b[39m \u001b[38;5;28mself\u001b[39m\u001b[38;5;241m.\u001b[39m\u001b[38;5;18m__class__\u001b[39m\u001b[38;5;241m.\u001b[39m\u001b[38;5;18m__name__\u001b[39m\u001b[38;5;241m.\u001b[39mreplace(\u001b[38;5;124m'\u001b[39m\u001b[38;5;124mSNEWS\u001b[39m\u001b[38;5;124m'\u001b[39m,\u001b[38;5;124m'\u001b[39m\u001b[38;5;124m'\u001b[39m)\u001b[38;5;241m.\u001b[39mreplace(\u001b[38;5;124m'\u001b[39m\u001b[38;5;124mMessage\u001b[39m\u001b[38;5;124m'\u001b[39m,\u001b[38;5;124m'\u001b[39m\u001b[38;5;124m'\u001b[39m)\n\u001b[1;32m    117\u001b[0m \u001b[38;5;66;03m# Get the detector name from the input.\u001b[39;00m\n\u001b[1;32m    118\u001b[0m \u001b[38;5;66;03m# det = self.get_detector_name(detector_name)\u001b[39;00m\n\u001b[0;32m--> 119\u001b[0m det \u001b[38;5;241m=\u001b[39m \u001b[43msnews_pt_utils\u001b[49m\u001b[38;5;241;43m.\u001b[39;49m\u001b[43mset_name\u001b[49m\u001b[43m(\u001b[49m\u001b[43mdetector_name\u001b[49m\u001b[43m,\u001b[49m\u001b[43m \u001b[49m\u001b[43m_return\u001b[49m\u001b[38;5;241;43m=\u001b[39;49m\u001b[38;5;28;43;01mTrue\u001b[39;49;00m\u001b[43m)\u001b[49m\n\u001b[1;32m    120\u001b[0m mt \u001b[38;5;241m=\u001b[39m \u001b[38;5;28mself\u001b[39m\u001b[38;5;241m.\u001b[39mclean_time_input(machine_time)\n\u001b[1;32m    122\u001b[0m \u001b[38;5;66;03m# Store basic message ID, detector name, and schema in a dictionary.\u001b[39;00m\n",
      "File \u001b[0;32m/mnt/c/Users/bj7780/Desktop/Kara/GitHub/SNEWS/SNEWS_Publishing_Tools/snews_pt/snews_pt_utils.py:319\u001b[0m, in \u001b[0;36mset_name\u001b[0;34m(detector_name, _return)\u001b[0m\n\u001b[1;32m    317\u001b[0m \u001b[38;5;28;01melse\u001b[39;00m:\n\u001b[1;32m    318\u001b[0m     \u001b[38;5;28;01mif\u001b[39;00m \u001b[38;5;129;01mnot\u001b[39;00m detector_name \u001b[38;5;129;01min\u001b[39;00m detectors:\n\u001b[0;32m--> 319\u001b[0m         \u001b[38;5;28;01mraise\u001b[39;00m \u001b[38;5;167;01mKeyError\u001b[39;00m(\u001b[38;5;124mf\u001b[39m\u001b[38;5;124m\"\u001b[39m\u001b[38;5;132;01m{\u001b[39;00mdetector_name\u001b[38;5;132;01m}\u001b[39;00m\u001b[38;5;124m is not a valid detector. \u001b[39m\u001b[38;5;130;01m\\n\u001b[39;00m\u001b[38;5;124mChoose from \u001b[39m\u001b[38;5;132;01m{\u001b[39;00mdetectors\u001b[38;5;132;01m}\u001b[39;00m\u001b[38;5;124m\"\u001b[39m)\n\u001b[1;32m    320\u001b[0m     os\u001b[38;5;241m.\u001b[39menviron[\u001b[38;5;124m\"\u001b[39m\u001b[38;5;124mDETECTOR_NAME\u001b[39m\u001b[38;5;124m\"\u001b[39m] \u001b[38;5;241m=\u001b[39m detector_name\n\u001b[1;32m    321\u001b[0m     os\u001b[38;5;241m.\u001b[39menviron[\u001b[38;5;124m\"\u001b[39m\u001b[38;5;124mHAS_NAME_CHANGED\u001b[39m\u001b[38;5;124m\"\u001b[39m] \u001b[38;5;241m=\u001b[39m \u001b[38;5;124m\"\u001b[39m\u001b[38;5;124m1\u001b[39m\u001b[38;5;124m\"\u001b[39m\n",
      "\u001b[0;31mKeyError\u001b[0m: \"aseyhsreshdshdshsdgsdg is not a valid detector. \\nChoose from ['Baksan', 'Borexino', 'DS-20K', 'DUNE', 'HALO', 'HALO-1kT', 'Hyper-K', 'IceCube', 'JUNO', 'KM3NeT', 'KamLAND', 'LVD', 'LZ', 'MicroBooNe', 'NOvA', 'PandaX-4T', 'SBND', 'SNO+', 'Super-K', 'XENONnT']\""
     ]
    }
   ],
   "source": [
    "msg = messages.SNEWSMessageBuilder(detector_name='aseyhsreshdshdshsdgsdg', \n",
    "                                  machine_time=test_time, \n",
    "                                  neutrino_time=test_time, \n",
    "                                  p_val=0.0007, \n",
    "                                  p_values=[0.0007,0.0008,0.0009],\n",
    "                                  t_bin_width=0.07, \n",
    "                                  is_test=True)"
   ]
  },
  {
   "cell_type": "markdown",
   "id": "259152f5",
   "metadata": {},
   "source": [
    "**3) Neutrino time in the past and it is not a test message.**"
   ]
  },
  {
   "cell_type": "code",
   "execution_count": 7,
   "id": "0cbbf351",
   "metadata": {},
   "outputs": [],
   "source": [
    "# msg = messages.SNEWSMessageBuilder(detector_name='LZ', \n",
    "#                           machine_time=test_time, \n",
    "#                           neutrino_time=\"2023-06-12 18:30\",  \n",
    "#                           is_test=False)\n",
    "\n",
    "# msg.messages"
   ]
  },
  {
   "cell_type": "markdown",
   "id": "8ba01c1d",
   "metadata": {},
   "source": [
    "**4) p values beyond 0 and 1**"
   ]
  },
  {
   "cell_type": "code",
   "execution_count": 8,
   "id": "31a36522",
   "metadata": {},
   "outputs": [],
   "source": [
    "# msg = messages.SNEWSMessageBuilder(detector_name='LZ', \n",
    "#                                    machine_time=test_time, \n",
    "#                                    p_values=[-0.0007,0.0008,0.0009],\n",
    "#                                    t_bin_width=0.07, \n",
    "#                                    is_test=False)\n",
    "\n",
    "# msg.messages"
   ]
  },
  {
   "cell_type": "markdown",
   "id": "ec563e38",
   "metadata": {},
   "source": [
    "## Other attributes and functions"
   ]
  },
  {
   "cell_type": "code",
   "execution_count": 9,
   "id": "45f72227",
   "metadata": {},
   "outputs": [],
   "source": [
    "msg = messages.SNEWSMessageBuilder(detector_name='LZ', \n",
    "                                  machine_time=test_time, \n",
    "                                  neutrino_time=test_time, \n",
    "                                  p_val=\"0.000\", \n",
    "                                  p_values=[0.0007,0.0008,0.0009],\n",
    "                                  t_bin_width=0.07, \n",
    "                                  is_test=True)"
   ]
  },
  {
   "cell_type": "code",
   "execution_count": 10,
   "id": "cfe4b55a",
   "metadata": {
    "collapsed": true
   },
   "outputs": [
    {
     "data": {
      "text/plain": [
       "\u001b[1mSNEWSCoincidenceTierMessage\n",
       "\u001b[0m---------------------------\n",
       "\u001b[91m            _id : LZ_CoincidenceTier_2023-07-21T14:53:51.016430\n",
       "\u001b[0m\u001b[91m schema_version : 1.3.0\n",
       "\u001b[0m\u001b[91m  detector_name : LZ\n",
       "\u001b[0m\u001b[94m  neutrino_time : 2023-07-21T14:53:51.016430\n",
       "\u001b[0m---------------------------\n",
       "\u001b[96m       p_values : [0.0007, 0.0008, 0.0009]\n",
       "\u001b[0m\u001b[96m    t_bin_width : 0.07\n",
       "\u001b[0m\u001b[96m        is_test : True\n",
       "\u001b[0m"
      ]
     },
     "execution_count": 10,
     "metadata": {},
     "output_type": "execute_result"
    }
   ],
   "source": [
    "msg.messages[0]"
   ]
  },
  {
   "cell_type": "code",
   "execution_count": 11,
   "id": "09d73658",
   "metadata": {},
   "outputs": [
    {
     "name": "stdout",
     "output_type": "stream",
     "text": [
      "\u001b[94m----------------------------------------------------------------\u001b[0m\n",
      "\u001b[91mSending message to CoincidenceTier on kafka://kafka.scimma.org/snews.experiments-firedrill\u001b[0m\n",
      "_id                :LZ_CoincidenceTier_2023-07-21T14:53:51.016430\n",
      "schema_version     :1.3.0\n",
      "detector_name      :LZ\n",
      "neutrino_time      :2023-07-21T14:53:51.016430\n",
      "p_val              :0.000\n",
      "is_test            :True\n",
      "sent_time          :2023-07-21T14:54:09.738349\n",
      "\u001b[94m----------------------------------------------------------------\u001b[0m\n",
      "\u001b[91mSending message to SignificanceTier on kafka://kafka.scimma.org/snews.experiments-firedrill\u001b[0m\n",
      "_id                :LZ_SignificanceTier_2023-07-21T14:53:51.016430\n",
      "schema_version     :1.3.0\n",
      "detector_name      :LZ\n",
      "p_values           :[0.0007, 0.0008, 0.0009]\n",
      "t_bin_width        :0.07\n",
      "is_test            :True\n",
      "sent_time          :2023-07-21T14:54:09.741139\n"
     ]
    }
   ],
   "source": [
    "msg.send_messages()"
   ]
  },
  {
   "cell_type": "markdown",
   "id": "541457ba",
   "metadata": {},
   "source": [
    "Notice below, the fields that do not belong to the tier in question are initially appended as \"meta\" fields. <br>\n",
    "However, when sending the messages to SNEWS, the program checks this and avoids redundancies by only keeping the \"meta\" fields, if the keys are not used in any other valid message."
   ]
  },
  {
   "cell_type": "code",
   "execution_count": 12,
   "id": "08e5425c",
   "metadata": {},
   "outputs": [
    {
     "data": {
      "text/plain": [
       "({'_id': 'LZ_CoincidenceTier_2023-07-21T14:53:51.016430',\n",
       "  'schema_version': '1.3.0',\n",
       "  'detector_name': 'LZ',\n",
       "  'neutrino_time': '2023-07-21T14:53:51.016430',\n",
       "  'p_val': '0.000',\n",
       "  'is_test': True,\n",
       "  'sent_time': '2023-07-21T14:54:09.738349'},\n",
       " {'p_values': [0.0007, 0.0008, 0.0009], 't_bin_width': 0.07, 'is_test': True})"
      ]
     },
     "execution_count": 12,
     "metadata": {},
     "output_type": "execute_result"
    }
   ],
   "source": [
    "msg.messages[0].message_data, msg.messages[0].meta"
   ]
  },
  {
   "cell_type": "code",
   "execution_count": 13,
   "id": "eea25d44",
   "metadata": {},
   "outputs": [
    {
     "data": {
      "text/plain": [
       "({'_id': 'LZ_SignificanceTier_2023-07-21T14:53:51.016430',\n",
       "  'schema_version': '1.3.0',\n",
       "  'detector_name': 'LZ',\n",
       "  'p_values': [0.0007, 0.0008, 0.0009],\n",
       "  't_bin_width': 0.07,\n",
       "  'is_test': True,\n",
       "  'sent_time': '2023-07-21T14:54:09.741139'},\n",
       " {'neutrino_time': '2023-07-21T14:53:51.016430',\n",
       "  'p_val': '0.000',\n",
       "  'is_test': True})"
      ]
     },
     "execution_count": 13,
     "metadata": {},
     "output_type": "execute_result"
    }
   ],
   "source": [
    "msg.messages[1].message_data, msg.messages[1].meta"
   ]
  },
  {
   "cell_type": "markdown",
   "id": "3413d944",
   "metadata": {},
   "source": [
    "### See the message schemas."
   ]
  },
  {
   "cell_type": "code",
   "execution_count": 14,
   "id": "0625292e",
   "metadata": {},
   "outputs": [
    {
     "name": "stdout",
     "output_type": "stream",
     "text": [
      "\u001b[34m\u001b[47mMessage schema for SNEWSCoincidenceTierMessage\u001b[0m\n",
      "\u001b[91m_id                  : (SET AUTOMATICALLY)\u001b[0m\n",
      "\u001b[91mschema_version       : (SET AUTOMATICALLY)\u001b[0m\n",
      "\u001b[91mdetector_name        : (SET AUTOMATICALLY)\u001b[0m\n",
      "\u001b[94mneutrino_time        : (REQUIRED USER INPUT)\u001b[0m\n",
      "\u001b[96mmachine_time         : (USER INPUT)\u001b[0m\n",
      "\u001b[96mp_val                : (USER INPUT)\u001b[0m\n"
     ]
    }
   ],
   "source": [
    "msg.messages[0].print_schema()"
   ]
  },
  {
   "cell_type": "code",
   "execution_count": 15,
   "id": "4177e2c5",
   "metadata": {},
   "outputs": [
    {
     "name": "stdout",
     "output_type": "stream",
     "text": [
      "\u001b[34m\u001b[47mMessage schema for SNEWSSignificanceTierMessage\u001b[0m\n",
      "\u001b[91m_id                  : (SET AUTOMATICALLY)\u001b[0m\n",
      "\u001b[91mschema_version       : (SET AUTOMATICALLY)\u001b[0m\n",
      "\u001b[91mdetector_name        : (SET AUTOMATICALLY)\u001b[0m\n",
      "\u001b[94mp_values             : (REQUIRED USER INPUT)\u001b[0m\n",
      "\u001b[94mt_bin_width          : (REQUIRED USER INPUT)\u001b[0m\n",
      "\u001b[96mmachine_time         : (USER INPUT)\u001b[0m\n"
     ]
    }
   ],
   "source": [
    "msg.messages[1].print_schema()"
   ]
  },
  {
   "cell_type": "code",
   "execution_count": null,
   "id": "70fff993",
   "metadata": {},
   "outputs": [],
   "source": []
  },
  {
   "cell_type": "code",
   "execution_count": null,
   "id": "c8d7ddf9",
   "metadata": {},
   "outputs": [],
   "source": []
  },
  {
   "cell_type": "code",
   "execution_count": null,
   "id": "13068238",
   "metadata": {},
   "outputs": [],
   "source": []
  }
 ],
 "metadata": {
  "kernelspec": {
   "display_name": "snews",
   "language": "python",
   "name": "snews"
  },
  "language_info": {
   "codemirror_mode": {
    "name": "ipython",
    "version": 3
   },
   "file_extension": ".py",
   "mimetype": "text/x-python",
   "name": "python",
   "nbconvert_exporter": "python",
   "pygments_lexer": "ipython3",
   "version": "3.9.7"
  },
  "vscode": {
   "interpreter": {
    "hash": "f581a8651b7bc0666f0167af942e3b60152ddbb51a5d7dbac8fd8281a3c56e84"
   }
  }
 },
 "nbformat": 4,
 "nbformat_minor": 5
}
