{
 "cells": [
  {
   "cell_type": "markdown",
   "id": "4c491567",
   "metadata": {},
   "source": [
    "# SNEWS_PT Examples"
   ]
  },
  {
   "cell_type": "code",
   "execution_count": 1,
   "id": "b8728349-7d8f-438d-8e33-79790d2a1845",
   "metadata": {},
   "outputs": [],
   "source": [
    "# Global params \n",
    "from datetime import datetime\n",
    "\n",
    "def nu_t():\n",
    "    return datetime.utcnow().strftime(\"%H:%M:%S:%f\")\n",
    "\n",
    "my_detector = 'DS-20K'"
   ]
  },
  {
   "cell_type": "markdown",
   "id": "af067f1c",
   "metadata": {},
   "source": [
    "## Publication"
   ]
  },
  {
   "cell_type": "code",
   "execution_count": 3,
   "id": "34bebc1c-8272-4a87-b877-31b77700907d",
   "metadata": {
    "tags": []
   },
   "outputs": [
    {
     "name": "stdout",
     "output_type": "stream",
     "text": [
      "\u001B[94m---------------------------------------------------------\u001B[0m\n",
      "_id                 :18_CoincidenceTier_21/12/16_17:11:53:875996\n",
      "detector_name       :DS-20K\n",
      "sent_time           :21/12/16 17:11:53\n",
      "machine_time        :None\n",
      "neutrino_time       :17:11:53:847107\n",
      "p_value             :0.98\n"
     ]
    }
   ],
   "source": [
    "# %%timeit\n",
    "from SNEWS_PT.snews_pub import CoincidenceTier, Publisher\n",
    "\n",
    "with Publisher() as pub:\n",
    "    message = CoincidenceTier(detector_name=my_detector, neutrino_time=nu_t(), p_value = 0.98,).message()\n",
    "    pub.send(message)"
   ]
  },
  {
   "cell_type": "code",
   "execution_count": 4,
   "id": "6643ecd8-2358-46b8-8320-96d65c2bc582",
   "metadata": {},
   "outputs": [
    {
     "name": "stdout",
     "output_type": "stream",
     "text": [
      "\u001B[94m---------------------------------------------------------\u001B[0m\n",
      "_id                 :18_SigTier_21/12/16_17:12:13:889697\n",
      "detector_name       :DS-20K\n",
      "sent_time           :21/12/16 17:12:13\n",
      "machine_time        :None\n",
      "neutrino_time       :17:12:13:864437\n",
      "p_values            :[0.78, 0.67, 0.75, 0.56]\n",
      "CPU times: user 52 ms, sys: 34.5 ms, total: 86.5 ms\n",
      "Wall time: 3.28 s\n"
     ]
    }
   ],
   "source": [
    "%%time\n",
    "from SNEWS_PT.snews_pub import SignificanceTier, Publisher\n",
    "\n",
    "with Publisher() as pub:\n",
    "    message = SignificanceTier(detector_name=my_detector, \n",
    "                               p_values=[0.78,0.67,0.75,0.56],\n",
    "                               neutrino_time = nu_t()).message()\n",
    "    pub.send(message)\n"
   ]
  },
  {
   "cell_type": "code",
   "execution_count": 5,
   "id": "11db1da7-d848-463e-8b6d-8b75c90897a9",
   "metadata": {},
   "outputs": [
    {
     "name": "stdout",
     "output_type": "stream",
     "text": [
      "\u001B[94m---------------------------------------------------------\u001B[0m\n",
      "_id                 :18_TimeTier_21/12/16_17:12:30:175435\n",
      "detector_name       :DS-20K\n",
      "sent_time           :21/12/16 17:12:30\n",
      "machine_time        :None\n",
      "neutrino_time       :17:12:30:143090\n",
      "timing_series       :['16:23:24\"4546', '16:23:24\"4666', '16:23:24\"4756']\n"
     ]
    }
   ],
   "source": [
    "from SNEWS_PT.snews_pub import TimingTier, Publisher\n",
    "\n",
    "with Publisher() as pub:\n",
    "    message = TimingTier(detector_name=my_detector, \n",
    "                         neutrino_time=nu_t(), \n",
    "                         timing_series = ['16:23:24\"4546','16:23:24\"4666','16:23:24\"4756']).message()\n",
    "    pub.send(message)"
   ]
  },
  {
   "cell_type": "code",
   "execution_count": 6,
   "id": "2f4d67cf-70bb-4d1d-8287-87c37f5ae7ff",
   "metadata": {},
   "outputs": [
    {
     "name": "stdout",
     "output_type": "stream",
     "text": [
      "\u001B[94m---------------------------------------------------------\u001B[0m\n",
      "\u001B[35mIT'S OKAY, WE ALL MAKE MISTAKES\u001B[0m\n",
      "_id                 :18_FalseOBS_21/12/16_17:12:39:511025\n",
      "detector_name       :DS-20K\n",
      "sent_time           :21/12/16 17:12:39\n",
      "machine_time        :None\n",
      "false_id            :None\n",
      "which_tier          :CoincidenceTier\n",
      "N_retract_latest    :5\n",
      "retraction_reason   :someone spilled coffee on the DAQ\n"
     ]
    }
   ],
   "source": [
    "from SNEWS_PT.snews_pub import Retraction, Publisher\n",
    "\n",
    "with Publisher() as pub:\n",
    "    message = Retraction(detector_name = my_detector, \n",
    "                         which_tier='CoincidenceTier', \n",
    "                         n_retract_latest=5, \n",
    "                         retraction_reason='someone spilled coffee on the DAQ').message()\n",
    "    pub.send(message)"
   ]
  },
  {
   "cell_type": "markdown",
   "id": "f6d67ae3",
   "metadata": {},
   "source": [
    "## Subscription"
   ]
  },
  {
   "cell_type": "code",
   "execution_count": 2,
   "id": "0ea6d89a",
   "metadata": {},
   "outputs": [
    {
     "name": "stdout",
     "output_type": "stream",
     "text": [
      "You are subscribing to \u001B[41m\u001B[1mALERT\u001B[0m\n",
      "Broker:\u001B[42mkafka://kafka.scimma.org/snews.alert-test\u001B[0m\n",
      "\u001B[32mDone\u001B[0m\n"
     ]
    }
   ],
   "source": [
    "from SNEWS_PT.snews_sub import Subscriber\n",
    "\n",
    "Subscriber().subscribe()"
   ]
  },
  {
   "cell_type": "code",
   "execution_count": null,
   "id": "fc1e177c",
   "metadata": {},
   "outputs": [],
   "source": []
  }
 ],
 "metadata": {
  "kernelspec": {
   "display_name": "snews-venv",
   "language": "python",
   "name": "snews-venv"
  },
  "language_info": {
   "codemirror_mode": {
    "name": "ipython",
    "version": 3
   },
   "file_extension": ".py",
   "mimetype": "text/x-python",
   "name": "python",
   "nbconvert_exporter": "python",
   "pygments_lexer": "ipython3",
   "version": "3.7.11"
  }
 },
 "nbformat": 4,
 "nbformat_minor": 5
}