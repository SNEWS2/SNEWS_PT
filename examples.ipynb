{
 "cells": [
  {
   "cell_type": "markdown",
   "id": "4c491567",
   "metadata": {},
   "source": [
    "# Examples of `snews_pt` usage"
   ]
  },
  {
   "cell_type": "markdown",
   "id": "935f417b",
   "metadata": {},
   "source": [
    "Last updated: 02/06/2023 <br>\n",
    "This notebook contains the most basic publication and subscription examples."
   ]
  },
  {
   "cell_type": "markdown",
   "id": "af067f1c",
   "metadata": {},
   "source": [
    "## Publication"
   ]
  },
  {
   "cell_type": "markdown",
   "id": "a140a24c",
   "metadata": {},
   "source": [
    "Here we create a message to which we pass the following arguments; <br>\n",
    "`detector_name`, `machine_time`, `neutrino_time`, `p_val`, `p_values`,`t_bin_width` <br>\n",
    "As described in [Message Schema Section](https://snews-publishing-tools.readthedocs.io/en/latest/user/command_line_interface.html) of the documentation. The tiers are decided automatically by the scripts based on the input arguments passed. <br>\n",
    "\n",
    "Here the argument `neutrino_time` indicates that the message should be sent to \"Coincidence Tier\" for coincidence checks with the other experiments. <br>\n",
    "\n",
    "Similarly, the input arguments; `p_values` and `t_bin_width` indicates that the message should go to \"Significance Tier\" for combined significance computations using the "
   ]
  },
  {
   "cell_type": "code",
   "execution_count": 3,
   "id": "34bebc1c-8272-4a87-b877-31b77700907d",
   "metadata": {
    "tags": []
   },
   "outputs": [
    {
     "name": "stdout",
     "output_type": "stream",
     "text": [
      "Message Generated for CoincidenceTier\n",
      "Message Generated for SigTier\n",
      "\u001b[94m----------------------------------------------------------------\u001b[0m\n",
      "\u001b[91mSending message to CoincidenceTier on kafka://kafka.scimma.org/snews.experiments-firedrill\u001b[0m\n",
      "_id                :14_CoincidenceTier_2023-06-02T09:27:40.882808\n",
      "detector_name      :LZ\n",
      "machine_time       :2023-06-02T09:27:40.882808\n",
      "neutrino_time      :2023-06-02T09:27:40.882808\n",
      "p_val              :0.0007\n",
      "meta               :\n",
      "\tis_test            :False\n",
      "schema_version     :1.3.0\n",
      "sent_time          :2023-06-02T09:27:41.016506\n",
      "\u001b[94m----------------------------------------------------------------\u001b[0m\n",
      "\u001b[91mSending message to SigTier on kafka://kafka.scimma.org/snews.experiments-firedrill\u001b[0m\n",
      "_id                :14_SigTier_2023-06-02T09:27:40.882808\n",
      "detector_name      :LZ\n",
      "machine_time       :2023-06-02T09:27:40.882808\n",
      "neutrino_time      :2023-06-02T09:27:40.882808\n",
      "p_values           :[0.0007, 0.0008, 0.0009]\n",
      "t_bin_width        :0.07\n",
      "meta               :\n",
      "\tis_test            :False\n",
      "schema_version     :1.3.0\n",
      "sent_time          :2023-06-02T09:27:41.019664\n"
     ]
    }
   ],
   "source": [
    "from snews_pt.snews_pub import SNEWSTiersPublisher\n",
    "from datetime import  datetime\n",
    "\n",
    "test_time = datetime.utcnow().isoformat()\n",
    "message = SNEWSTiersPublisher(detector_name='LZ', machine_time=test_time, neutrino_time=test_time, p_val=0.0007, p_values=[0.0007,0.0008,0.0009],t_bin_width=0.07)\n",
    "# print(message.message_data)\n",
    "# print(message.tiernames)\n",
    "# print('Sending message')\n",
    "message.send_to_snews()"
   ]
  },
  {
   "cell_type": "markdown",
   "id": "f6d67ae3",
   "metadata": {},
   "source": [
    "## Subscription"
   ]
  },
  {
   "cell_type": "code",
   "execution_count": 4,
   "id": "0ea6d89a",
   "metadata": {
    "pycharm": {
     "name": "#%%\n"
    }
   },
   "outputs": [
    {
     "name": "stdout",
     "output_type": "stream",
     "text": [
      "You are subscribing to \u001b[41m\u001b[1mALERT\u001b[0m\n",
      "Broker:\u001b[42mkafka://kafka.scimma.org/snews.alert-firedrill\u001b[0m\n"
     ]
    }
   ],
   "source": [
    "from snews_pt.snews_sub import Subscriber\n",
    "\n",
    "Subscriber().subscribe()"
   ]
  },
  {
   "cell_type": "code",
   "execution_count": null,
   "id": "81f0b707",
   "metadata": {
    "pycharm": {
     "name": "#%%\n"
    }
   },
   "outputs": [],
   "source": []
  }
 ],
 "metadata": {
  "kernelspec": {
   "display_name": "snews",
   "language": "python",
   "name": "snews"
  },
  "language_info": {
   "codemirror_mode": {
    "name": "ipython",
    "version": 3
   },
   "file_extension": ".py",
   "mimetype": "text/x-python",
   "name": "python",
   "nbconvert_exporter": "python",
   "pygments_lexer": "ipython3",
   "version": "3.9.7"
  },
  "vscode": {
   "interpreter": {
    "hash": "f581a8651b7bc0666f0167af942e3b60152ddbb51a5d7dbac8fd8281a3c56e84"
   }
  }
 },
 "nbformat": 4,
 "nbformat_minor": 5
}
