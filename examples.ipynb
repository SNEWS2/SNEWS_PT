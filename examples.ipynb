{
 "cells": [
  {
   "cell_type": "code",
   "execution_count": 1,
   "id": "34bebc1c-8272-4a87-b877-31b77700907d",
   "metadata": {
    "tags": []
   },
   "outputs": [
    {
     "name": "stdout",
     "output_type": "stream",
     "text": [
      "\u001b[94m---------------------------------------------------------\u001b[0m\n",
      "_id                 :18_CoincidenceTier_21/11/12_22:05:39:244113\n",
      "detector_name       :DS-20K\n",
      "sent_time           :21/11/12 22:05:39\n",
      "machine_time        :None\n",
      "neutrino_time       :22:05:39:244092\n",
      "p_value             :0.67\n"
     ]
    }
   ],
   "source": [
    "from SNEWS_PT.hop_pub import Publisher_Coincidence_Tier\n",
    "from datetime import datetime\n",
    "from datetime import datetime\n",
    "\n",
    "def nu_t():\n",
    "    return datetime.utcnow().strftime(\"%H:%M:%S:%f\")\n",
    "\n",
    "my_detector = 'DS-20K'\n",
    "\n",
    "pub = Publisher_Coincidence_Tier(my_detector)\n",
    "\n",
    "pub.send_coincidence_tier_message(nu_time=nu_t(), p_value =  0.67)"
   ]
  },
  {
   "cell_type": "code",
   "execution_count": 2,
   "id": "6643ecd8-2358-46b8-8320-96d65c2bc582",
   "metadata": {},
   "outputs": [
    {
     "name": "stdout",
     "output_type": "stream",
     "text": [
      "\u001b[94m---------------------------------------------------------\u001b[0m\n",
      "_id                 :18_SigTier_21/11/12_22:05:40:592718\n",
      "detector_name       :DS-20K\n",
      "sent_time           :21/11/12 22:05:40\n",
      "machine_time        :None\n",
      "neutrino_time       :22:05:40:592679\n",
      "p_values            :[0.67, 0.87, 0.6]\n"
     ]
    }
   ],
   "source": [
    "from SNEWS_PT.hop_pub import Publisher_Significance_Tier\n",
    "from datetime import datetime\n",
    "\n",
    "\n",
    "def nu_t():\n",
    "    return datetime.utcnow().strftime(\"%H:%M:%S:%f\")\n",
    "\n",
    "my_detector = 'DS-20K'\n",
    "\n",
    "pub = Publisher_Significance_Tier(my_detector)\n",
    "\n",
    "pub.send_sig_tier_message(nu_time=nu_t(), p_values =  [0.67,0.87,0.60])"
   ]
  },
  {
   "cell_type": "code",
   "execution_count": 3,
   "id": "11db1da7-d848-463e-8b6d-8b75c90897a9",
   "metadata": {},
   "outputs": [
    {
     "name": "stdout",
     "output_type": "stream",
     "text": [
      "\u001b[94m---------------------------------------------------------\u001b[0m\n",
      "_id                 :18_TimeTier_21/11/12_22:05:41:927918\n",
      "detector_name       :DS-20K\n",
      "sent_time           :21/11/12 22:05:41\n",
      "machine_time        :None\n",
      "neutrino_time       :22:05:41:927809\n",
      "timing_series       :['16:23:24\"4546', '16:23:24\"4666', '16:23:24\"4756']\n"
     ]
    }
   ],
   "source": [
    "from SNEWS_PT.hop_pub import Publisher_Timing_Tier\n",
    "from datetime import datetime\n",
    "\n",
    "def nu_t():\n",
    "    return datetime.utcnow().strftime(\"%H:%M:%S:%f\")\n",
    "\n",
    "my_detector = 'DS-20K'\n",
    "\n",
    "pub = Publisher_Timing_Tier(my_detector)\n",
    "\n",
    "pub.send_t_tier(nu_time=nu_t(), timing_series = ['16:23:24\"4546','16:23:24\"4666','16:23:24\"4756'])"
   ]
  },
  {
   "cell_type": "code",
   "execution_count": 4,
   "id": "2f4d67cf-70bb-4d1d-8287-87c37f5ae7ff",
   "metadata": {},
   "outputs": [
    {
     "name": "stdout",
     "output_type": "stream",
     "text": [
      "\u001b[94m---------------------------------------------------------\u001b[0m\n",
      "\u001b[35mIT'S OKAY, WE ALL MAKE MISTAKES\u001b[0m\n",
      "_id                 :18_FalseOBS_21/11/12_22:05:44:286197\n",
      "detector_name       :DS-20K\n",
      "sent_time           :21/11/12 22:05:44\n",
      "machine_time        :None\n",
      "false_id            :None\n",
      "which_tier          :CoincidenceTier\n",
      "N_retract_latest    :5\n",
      "retraction_reason   :someone spilled coffee on the DAQ\n"
     ]
    }
   ],
   "source": [
    "from SNEWS_PT.hop_pub import Publisher_Rectraction\n",
    "from datetime import datetime\n",
    "\n",
    "\n",
    "my_detector = 'DS-20K'\n",
    "\n",
    "pub = Publisher_Rectraction(my_detector)\n",
    "\n",
    "pub.retract(which_tier='CoincidenceTier', n_retract_latest=5, retraction_reason='someone spilled coffee on the DAQ')"
   ]
  },
  {
   "cell_type": "code",
   "execution_count": null,
   "id": "1edc36bc-170e-4d25-a5ee-8ff2d542eb98",
   "metadata": {},
   "outputs": [],
   "source": []
  }
 ],
 "metadata": {
  "kernelspec": {
   "display_name": "Python 3 (ipykernel)",
   "language": "python",
   "name": "python3"
  },
  "language_info": {
   "codemirror_mode": {
    "name": "ipython",
    "version": 3
   },
   "file_extension": ".py",
   "mimetype": "text/x-python",
   "name": "python",
   "nbconvert_exporter": "python",
   "pygments_lexer": "ipython3",
   "version": "3.8.12"
  }
 },
 "nbformat": 4,
 "nbformat_minor": 5
}
