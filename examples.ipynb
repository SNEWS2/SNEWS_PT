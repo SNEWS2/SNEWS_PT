{
 "cells": [
  {
   "cell_type": "markdown",
   "id": "4c491567",
   "metadata": {},
   "source": [
    "# SNEWS_PT Examples\n"
   ]
  },
  {
   "cell_type": "markdown",
   "id": "af067f1c",
   "metadata": {},
   "source": [
    "## Publication"
   ]
  },
  {
   "cell_type": "code",
   "execution_count": 3,
   "id": "34bebc1c-8272-4a87-b877-31b77700907d",
   "metadata": {
    "tags": []
   },
   "outputs": [
    {
     "name": "stdout",
     "output_type": "stream",
     "text": [
      "\u001B[94m---------------------------------------------------------\u001B[0m\n",
      "_id                 :18_CoincidenceTier_21/12/16_17:11:53:875996\n",
      "detector_name       :DS-20K\n",
      "sent_time           :21/12/16 17:11:53\n",
      "machine_time        :None\n",
      "neutrino_time       :17:11:53:847107\n",
      "p_value             :0.98\n"
     ]
    }
   ],
   "source": [
    "from SNEWS_PT.snews_pub import Publisher, SNEWSTiers\n",
    "\n",
    "with Publisher() as pub:\n",
    "    messages = SNEWSTiers(detector_name='KamLAND', timing_series=['4:31:05:565','4:31:05:575','4:31:05:585'], p_value=0.000007, machine_time='22/02/08 4:31:08:565',).determine_tier()\n",
    "    pub.send(messages)"
   ]
  },
  {
   "cell_type": "markdown",
   "id": "f6d67ae3",
   "metadata": {},
   "source": [
    "## Subscription"
   ]
  },
  {
   "cell_type": "code",
   "execution_count": 2,
   "id": "0ea6d89a",
   "metadata": {
    "pycharm": {
     "name": "#%%\n"
    }
   },
   "outputs": [
    {
     "name": "stdout",
     "output_type": "stream",
     "text": [
      "You are subscribing to \u001B[41m\u001B[1mALERT\u001B[0m\n",
      "Broker:\u001B[42mkafka://kafka.scimma.org/snews.alert-test\u001B[0m\n",
      "\u001B[32mDone\u001B[0m\n"
     ]
    }
   ],
   "source": [
    "from SNEWS_PT.snews_sub import Subscriber\n",
    "\n",
    "Subscriber().subscribe()\n"
   ]
  }
 ],
 "metadata": {
  "kernelspec": {
   "display_name": "snews-venv",
   "language": "python",
   "name": "snews-venv"
  },
  "language_info": {
   "codemirror_mode": {
    "name": "ipython",
    "version": 3
   },
   "file_extension": ".py",
   "mimetype": "text/x-python",
   "name": "python",
   "nbconvert_exporter": "python",
   "pygments_lexer": "ipython3",
   "version": "3.7.11"
  }
 },
 "nbformat": 4,
 "nbformat_minor": 5
}