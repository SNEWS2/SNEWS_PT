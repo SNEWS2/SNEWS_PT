{
 "cells": [
  {
   "cell_type": "markdown",
   "metadata": {
    "pycharm": {
     "name": "#%% md\n"
    }
   },
   "source": [
    "# SNEWS Firedrill Test May 25th\n",
    "\n",
    "\n",
    "## Installing Stuff\n",
    "\n",
    "- [**SNEWS_PT Repo**](https://github.com/SNEWS2/SNEWS_Publishing_Tools) <br>\n",
    "- [**hop repo**](https://github.com/scimma/hop-client) <br>\n",
    "- [**hop auth**](https://my.hop.scimma.org/hopauth/)\n",
    "\n",
    "\n",
    "Start by making sure your hop credentials are updated for firedrills:\n",
    "\n",
    "snews.alert-firedrill\n",
    "snews.experiments-firedrill\n",
    "snews.mma-firedrill\n",
    "\n",
    "- Make sure you are using hop 0.5.0\n",
    "\n",
    "```pip install -U hop-client``` <br>\n",
    "You can check your version with `hop --version`\n",
    "\n",
    "Install SNEWS_PT\n",
    "\n",
    "```pip install snews-pt```\n",
    "\n",
    "\n",
    "\n"
   ]
  },
  {
   "cell_type": "markdown",
   "metadata": {
    "pycharm": {
     "name": "#%% md\n"
    }
   },
   "source": [
    "# Detector Names (PT Format)\n",
    "\n",
    "<font color='red'>\n",
    "\"Baksan\" <br>\n",
    "\"Borexino\"<br>\n",
    "\"DS-20K\"<br>\n",
    "\"DUNE\"<br>\n",
    "\"HALO\"<br>\n",
    "\"HALO-1kT\"<br>\n",
    "\"Hyper-K\"<br>\n",
    "\"ICE\"<br>\n",
    "\"JUNO\"<br>\n",
    "\"KM3NeT\"<br>\n",
    "\"KamLAND\"<br>\n",
    "\"LVD\"<br>\n",
    "\"LZ\"<br>\n",
    "\"MicroBooNe\"<br>\n",
    "\"NOvA\"<br>\n",
    "\"PandaX-4T\"<br>\n",
    "\"SBND\"<br>\n",
    "\"SNO+\"<br>\n",
    "\"Super-K\"<br>\n",
    "\"XENONnT\"<br>\n",
    "    </font> <br>\n",
    "    and the default name <br>\n",
    "<font color='blue'>\"TEST\"</font>"
   ]
  },
  {
   "cell_type": "markdown",
   "metadata": {
    "pycharm": {
     "name": "#%% md\n"
    }
   },
   "source": [
    "## Using the API"
   ]
  },
  {
   "cell_type": "code",
   "execution_count": 4,
   "metadata": {
    "pycharm": {
     "name": "#%%\n"
    }
   },
   "outputs": [],
   "source": [
    "from snews_pt.snews_pub import SNEWSTiersPublisher\n",
    "from datetime import  datetime\n",
    "from time import sleep\n",
    "\n",
    "\n",
    "def test_time():\n",
    "    # return datetime.utcnow().strftime(\"%y/%m/%d %H:%M:%S:%f\")\n",
    "    return datetime.utcnow().isoformat()"
   ]
  },
  {
   "cell_type": "code",
   "execution_count": 10,
   "metadata": {},
   "outputs": [
    {
     "name": "stdout",
     "output_type": "stream",
     "text": [
      "\u001b[94m----------------------------------------------------------------\u001b[0m\n",
      "\u001b[91mSending message to CoincidenceTier on kafka://kafka.scimma.org/snews.experiments-test\u001b[0m\n",
      "_id                 :4_CoincidenceTier_2022-09-28T14:28:52.193756\n",
      "detector_name       :KamLAND\n",
      "machine_time        :2022-09-28T14:28:52.193756\n",
      "neutrino_time       :2022-09-28T14:28:52.193763\n",
      "p_val               :0.08\n",
      "meta                :{}\n",
      "schema_version      :1.1.1\n",
      "sent_time           :2022-09-28T14:28:52.193771\n",
      "\u001b[94m----------------------------------------------------------------\u001b[0m\n",
      "\u001b[91mSending message to CoincidenceTier on kafka://kafka.scimma.org/snews.experiments-test\u001b[0m\n",
      "_id                 :7_CoincidenceTier_2022-09-28T14:28:56.603930\n",
      "detector_name       :Borexino\n",
      "machine_time        :2022-09-28T14:28:56.603930\n",
      "neutrino_time       :2022-09-28T14:28:56.603957\n",
      "p_val               :0.03\n",
      "meta                :{}\n",
      "schema_version      :1.1.1\n",
      "sent_time           :2022-09-28T14:28:56.603975\n"
     ]
    }
   ],
   "source": [
    "message = SNEWSTiersPublisher(detector_name=\"KamLAND\",\n",
    "                              machine_time=test_time() ,\n",
    "                              neutrino_time=test_time(),\n",
    "                              p_val=0.08,\n",
    "                              firedrill_mode=True)\n",
    "\n",
    "message.send_to_snews()\n",
    "\n",
    "# sleep(3)\n",
    "\n",
    "# message2 = SNEWSTiersPublisher(detector_name=\"Borexino\",\n",
    "#                               machine_time=test_time() ,\n",
    "#                               neutrino_time=test_time(),\n",
    "#                               p_val=0.03,\n",
    "#                               firedrill_mode=False)\n",
    "\n",
    "# message2.send_to_snews()\n"
   ]
  },
  {
   "cell_type": "markdown",
   "metadata": {
    "pycharm": {
     "name": "#%% md\n"
    }
   },
   "source": [
    "### Submit from JSON"
   ]
  },
  {
   "cell_type": "markdown",
   "metadata": {
    "pycharm": {
     "name": "#%% md\n"
    }
   },
   "source": [
    "Let's submit an observation message from a JSON file. For this we use the `\"coincidence_example.json\"` which contains\n",
    "```JSON\n",
    "{\n",
    "    \"machine_time\": \n",
    "        \"22/06/14 14:57:238275\",\n",
    "    \"neutrino_time\": \n",
    "        \"22/06/14 14:50:345275\",\n",
    "    \"p_val\":\n",
    "        0.07,\n",
    "    \"something extra\":\n",
    "        \"Our neutrino time is defined as the first event above bg\"\n",
    "}\n",
    "```"
   ]
  },
  {
   "cell_type": "code",
   "execution_count": null,
   "metadata": {
    "pycharm": {
     "name": "#%%\n"
    }
   },
   "outputs": [],
   "source": [
    "json_message = SNEWSTiersPublisher.from_json(\"coincidence_example.json\")\n",
    "json_message.send_to_snews()"
   ]
  },
  {
   "cell_type": "markdown",
   "metadata": {
    "pycharm": {
     "name": "#%% md\n"
    }
   },
   "source": [
    "It is also possible to modify the content of the json file."
   ]
  },
  {
   "cell_type": "code",
   "execution_count": null,
   "metadata": {
    "pycharm": {
     "name": "#%%\n"
    }
   },
   "outputs": [],
   "source": [
    "json_message = SNEWSTiersPublisher.from_json(\"coincidence_example.json\", detector_name=\"ICE\")\n",
    "json_message.send_to_snews()"
   ]
  },
  {
   "cell_type": "markdown",
   "metadata": {
    "pycharm": {
     "name": "#%% md\n"
    }
   },
   "source": [
    "## Using the CLI\n",
    "\n",
    "\n",
    "\n",
    "\n"
   ]
  },
  {
   "cell_type": "markdown",
   "metadata": {
    "pycharm": {
     "name": "#%% md\n"
    }
   },
   "source": [
    "We also provide Command Line Interface. CLI allows subscribing and publishing messages using the terminal. <br>\n",
    "Display the complete help with\n",
    "```bash\n",
    "snews_pt --help\n",
    "```\n",
    "\n",
    "Subscribe to alerts\n",
    "```bash\n",
    "snews_pt subscribe\n",
    "```\n",
    "\n",
    "Publish JSON files\n",
    "```bash\n",
    "snews_pt publish coincidence_example.json\n",
    "```\n",
    "\n",
    "**Bonus**:<br> If you have a follow-up script which uses the alert content and does more calculations, you can plug this script to subscribe function\n",
    "```bash\n",
    "snews_pt subscribe -p mycustomscript.py\n",
    "```\n",
    "\n",
    "> The `mycustomscript.py` should contain \n",
    "> ```python\n",
    "> import sys, json\n",
    "> data = json.load(open(sys.argv[1]))\n",
    "> ``` \n",
    "\n",
    "> then it the `data` contains the alert content as a dictionary object."
   ]
  }
 ],
 "metadata": {
  "kernelspec": {
   "display_name": "Python 3.9.9 ('snews-pt')",
   "language": "python",
   "name": "python3"
  },
  "language_info": {
   "codemirror_mode": {
    "name": "ipython",
    "version": 3
   },
   "file_extension": ".py",
   "mimetype": "text/x-python",
   "name": "python",
   "nbconvert_exporter": "python",
   "pygments_lexer": "ipython3",
   "version": "3.9.9"
  },
  "vscode": {
   "interpreter": {
    "hash": "f581a8651b7bc0666f0167af942e3b60152ddbb51a5d7dbac8fd8281a3c56e84"
   }
  }
 },
 "nbformat": 4,
 "nbformat_minor": 1
}
